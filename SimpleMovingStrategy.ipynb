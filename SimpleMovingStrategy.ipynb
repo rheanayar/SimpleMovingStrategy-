{
  "cells": [
    {
      "cell_type": "markdown",
      "metadata": {},
      "source": [
        "## Simple Moving Average Strategy Backtesting"
      ]
    },
    {
      "cell_type": "markdown",
      "metadata": {},
      "source": [
        "#### Objective\n",
        "The objective of this project is to implement and backtest a basic trading strategy based on simple moving averages using historical price data \n"
      ]
    },
    {
      "cell_type": "markdown",
      "metadata": {},
      "source": [
        "### Background \n",
        "Moving averages of a stock is the average price of a security over a duration and is used to help smooth out price data by creating a constantly updated average price. \n",
        "##### Moving average Crossover \n",
        "For this project, I will be using the Moving average Crossover strategy. This strategy is typically used by traders to identify changes in trend direction in financial markets and involves the use of two moving averages with different periods, where one is typically a shorter-term moving average and the other is a longer-term moving average. \n",
        "\"golden cross\": buy signal. This occurs when the shorter-term price average is moving upwards \"faster\" than the long-term average. \n",
        "\"death cross\": sell signal. short-term price is falling quicker than the average long-term price. \n",
        "##### Summary\n",
        "Overall, the Moving Average Crossover strategy aims to capture trends in asset prices by identifying key points of trend reversal. This is a simple strategy that can be used when complemented with proper risk management and additional analysis techniques. "
      ]
    },
    {
      "cell_type": "code",
      "execution_count": 1,
      "metadata": {
        "trusted": true
      },
      "outputs": [],
      "source": [
        "import numpy as np\n",
        "import pandas as pd"
      ]
    },
    {
      "cell_type": "code",
      "execution_count": 2,
      "metadata": {
        "trusted": true
      },
      "outputs": [
        {
          "data": {
            "text/html": [
              "<div>\n",
              "<style scoped>\n",
              "    .dataframe tbody tr th:only-of-type {\n",
              "        vertical-align: middle;\n",
              "    }\n",
              "\n",
              "    .dataframe tbody tr th {\n",
              "        vertical-align: top;\n",
              "    }\n",
              "\n",
              "    .dataframe thead th {\n",
              "        text-align: right;\n",
              "    }\n",
              "</style>\n",
              "<table border=\"1\" class=\"dataframe\">\n",
              "  <thead>\n",
              "    <tr style=\"text-align: right;\">\n",
              "      <th></th>\n",
              "      <th>Date</th>\n",
              "      <th>Open</th>\n",
              "      <th>High</th>\n",
              "      <th>Low</th>\n",
              "      <th>Close</th>\n",
              "      <th>Adj Close</th>\n",
              "      <th>Volume</th>\n",
              "    </tr>\n",
              "  </thead>\n",
              "  <tbody>\n",
              "    <tr>\n",
              "      <th>0</th>\n",
              "      <td>2019-05-16</td>\n",
              "      <td>126.750000</td>\n",
              "      <td>129.380005</td>\n",
              "      <td>126.459999</td>\n",
              "      <td>128.929993</td>\n",
              "      <td>122.959991</td>\n",
              "      <td>30112200</td>\n",
              "    </tr>\n",
              "    <tr>\n",
              "      <th>1</th>\n",
              "      <td>2019-05-17</td>\n",
              "      <td>128.309998</td>\n",
              "      <td>130.460007</td>\n",
              "      <td>127.919998</td>\n",
              "      <td>128.070007</td>\n",
              "      <td>122.139816</td>\n",
              "      <td>25770500</td>\n",
              "    </tr>\n",
              "    <tr>\n",
              "      <th>2</th>\n",
              "      <td>2019-05-20</td>\n",
              "      <td>126.519997</td>\n",
              "      <td>127.589996</td>\n",
              "      <td>125.760002</td>\n",
              "      <td>126.220001</td>\n",
              "      <td>120.375465</td>\n",
              "      <td>23706900</td>\n",
              "    </tr>\n",
              "    <tr>\n",
              "      <th>3</th>\n",
              "      <td>2019-05-21</td>\n",
              "      <td>127.430000</td>\n",
              "      <td>127.529999</td>\n",
              "      <td>126.580002</td>\n",
              "      <td>126.900002</td>\n",
              "      <td>121.023979</td>\n",
              "      <td>15293300</td>\n",
              "    </tr>\n",
              "    <tr>\n",
              "      <th>4</th>\n",
              "      <td>2019-05-22</td>\n",
              "      <td>126.620003</td>\n",
              "      <td>128.240005</td>\n",
              "      <td>126.519997</td>\n",
              "      <td>127.669998</td>\n",
              "      <td>121.758331</td>\n",
              "      <td>15396500</td>\n",
              "    </tr>\n",
              "  </tbody>\n",
              "</table>\n",
              "</div>"
            ],
            "text/plain": [
              "         Date        Open        High         Low       Close   Adj Close  \\\n",
              "0  2019-05-16  126.750000  129.380005  126.459999  128.929993  122.959991   \n",
              "1  2019-05-17  128.309998  130.460007  127.919998  128.070007  122.139816   \n",
              "2  2019-05-20  126.519997  127.589996  125.760002  126.220001  120.375465   \n",
              "3  2019-05-21  127.430000  127.529999  126.580002  126.900002  121.023979   \n",
              "4  2019-05-22  126.620003  128.240005  126.519997  127.669998  121.758331   \n",
              "\n",
              "     Volume  \n",
              "0  30112200  \n",
              "1  25770500  \n",
              "2  23706900  \n",
              "3  15293300  \n",
              "4  15396500  "
            ]
          },
          "execution_count": 2,
          "metadata": {},
          "output_type": "execute_result"
        }
      ],
      "source": [
        "df = pd.read_csv('MSFT (1).csv')\n",
        "df.head(5)"
      ]
    },
    {
      "cell_type": "code",
      "execution_count": 3,
      "metadata": {
        "trusted": true
      },
      "outputs": [
        {
          "data": {
            "text/html": [
              "<div>\n",
              "<style scoped>\n",
              "    .dataframe tbody tr th:only-of-type {\n",
              "        vertical-align: middle;\n",
              "    }\n",
              "\n",
              "    .dataframe tbody tr th {\n",
              "        vertical-align: top;\n",
              "    }\n",
              "\n",
              "    .dataframe thead th {\n",
              "        text-align: right;\n",
              "    }\n",
              "</style>\n",
              "<table border=\"1\" class=\"dataframe\">\n",
              "  <thead>\n",
              "    <tr style=\"text-align: right;\">\n",
              "      <th></th>\n",
              "      <th>Date</th>\n",
              "      <th>Open</th>\n",
              "      <th>High</th>\n",
              "      <th>Low</th>\n",
              "      <th>Close</th>\n",
              "      <th>Adj Close</th>\n",
              "      <th>Volume</th>\n",
              "      <th>Short_MA</th>\n",
              "      <th>Long_MA</th>\n",
              "    </tr>\n",
              "  </thead>\n",
              "  <tbody>\n",
              "    <tr>\n",
              "      <th>1254</th>\n",
              "      <td>2024-05-09</td>\n",
              "      <td>410.570007</td>\n",
              "      <td>412.720001</td>\n",
              "      <td>409.100006</td>\n",
              "      <td>412.320007</td>\n",
              "      <td>411.577637</td>\n",
              "      <td>14689700</td>\n",
              "      <td>406.253000</td>\n",
              "      <td>413.728201</td>\n",
              "    </tr>\n",
              "    <tr>\n",
              "      <th>1255</th>\n",
              "      <td>2024-05-10</td>\n",
              "      <td>412.940002</td>\n",
              "      <td>415.380005</td>\n",
              "      <td>411.799988</td>\n",
              "      <td>414.739990</td>\n",
              "      <td>413.993256</td>\n",
              "      <td>13402300</td>\n",
              "      <td>405.895000</td>\n",
              "      <td>413.750200</td>\n",
              "    </tr>\n",
              "    <tr>\n",
              "      <th>1256</th>\n",
              "      <td>2024-05-13</td>\n",
              "      <td>418.010010</td>\n",
              "      <td>418.350006</td>\n",
              "      <td>410.820007</td>\n",
              "      <td>413.720001</td>\n",
              "      <td>412.975098</td>\n",
              "      <td>15440200</td>\n",
              "      <td>405.898999</td>\n",
              "      <td>413.714600</td>\n",
              "    </tr>\n",
              "    <tr>\n",
              "      <th>1257</th>\n",
              "      <td>2024-05-14</td>\n",
              "      <td>412.019989</td>\n",
              "      <td>417.489990</td>\n",
              "      <td>411.549988</td>\n",
              "      <td>416.559998</td>\n",
              "      <td>415.809998</td>\n",
              "      <td>15109300</td>\n",
              "      <td>405.998000</td>\n",
              "      <td>413.747400</td>\n",
              "    </tr>\n",
              "    <tr>\n",
              "      <th>1258</th>\n",
              "      <td>2024-05-15</td>\n",
              "      <td>417.899994</td>\n",
              "      <td>423.809998</td>\n",
              "      <td>417.269989</td>\n",
              "      <td>423.079987</td>\n",
              "      <td>423.079987</td>\n",
              "      <td>22217500</td>\n",
              "      <td>406.559999</td>\n",
              "      <td>414.156000</td>\n",
              "    </tr>\n",
              "  </tbody>\n",
              "</table>\n",
              "</div>"
            ],
            "text/plain": [
              "            Date        Open        High         Low       Close   Adj Close  \\\n",
              "1254  2024-05-09  410.570007  412.720001  409.100006  412.320007  411.577637   \n",
              "1255  2024-05-10  412.940002  415.380005  411.799988  414.739990  413.993256   \n",
              "1256  2024-05-13  418.010010  418.350006  410.820007  413.720001  412.975098   \n",
              "1257  2024-05-14  412.019989  417.489990  411.549988  416.559998  415.809998   \n",
              "1258  2024-05-15  417.899994  423.809998  417.269989  423.079987  423.079987   \n",
              "\n",
              "        Volume    Short_MA     Long_MA  \n",
              "1254  14689700  406.253000  413.728201  \n",
              "1255  13402300  405.895000  413.750200  \n",
              "1256  15440200  405.898999  413.714600  \n",
              "1257  15109300  405.998000  413.747400  \n",
              "1258  22217500  406.559999  414.156000  "
            ]
          },
          "execution_count": 3,
          "metadata": {},
          "output_type": "execute_result"
        }
      ],
      "source": [
        "#calculating short term 50 day moving avergae for shorter terms and 200 day for longer term \n",
        "short_window = 20 \n",
        "df['Short_MA'] = df['Close'].rolling(window = short_window, min_periods = 1).mean()\n",
        "\n",
        "long_window = 50 \n",
        "df['Long_MA'] = df['Close'].rolling(window = long_window, min_periods = 1).mean()\n",
        "df.tail()"
      ]
    },
    {
      "cell_type": "markdown",
      "metadata": {},
      "source": [
        "Now we will generate trade signals. the golden cross will be generated when the short-term sMA crosses above the long-term SMA, and the death cross will be generated when a short-term SMA crosses below the long-term SMA. Note that a golden cross occurs when (1) in the previous period when Short_MA was below Long_Ma (2) in the current period, Short_Ma is > Long_MA "
      ]
    },
    {
      "cell_type": "code",
      "execution_count": 4,
      "metadata": {
        "trusted": true
      },
      "outputs": [
        {
          "data": {
            "text/html": [
              "<div>\n",
              "<style scoped>\n",
              "    .dataframe tbody tr th:only-of-type {\n",
              "        vertical-align: middle;\n",
              "    }\n",
              "\n",
              "    .dataframe tbody tr th {\n",
              "        vertical-align: top;\n",
              "    }\n",
              "\n",
              "    .dataframe thead th {\n",
              "        text-align: right;\n",
              "    }\n",
              "</style>\n",
              "<table border=\"1\" class=\"dataframe\">\n",
              "  <thead>\n",
              "    <tr style=\"text-align: right;\">\n",
              "      <th></th>\n",
              "      <th>Date</th>\n",
              "      <th>Open</th>\n",
              "      <th>High</th>\n",
              "      <th>Low</th>\n",
              "      <th>Close</th>\n",
              "      <th>Adj Close</th>\n",
              "      <th>Volume</th>\n",
              "      <th>Short_MA</th>\n",
              "      <th>Long_MA</th>\n",
              "      <th>Signal</th>\n",
              "    </tr>\n",
              "  </thead>\n",
              "  <tbody>\n",
              "    <tr>\n",
              "      <th>0</th>\n",
              "      <td>2019-05-16</td>\n",
              "      <td>126.750000</td>\n",
              "      <td>129.380005</td>\n",
              "      <td>126.459999</td>\n",
              "      <td>128.929993</td>\n",
              "      <td>122.959991</td>\n",
              "      <td>30112200</td>\n",
              "      <td>128.929993</td>\n",
              "      <td>128.929993</td>\n",
              "      <td>0</td>\n",
              "    </tr>\n",
              "    <tr>\n",
              "      <th>1</th>\n",
              "      <td>2019-05-17</td>\n",
              "      <td>128.309998</td>\n",
              "      <td>130.460007</td>\n",
              "      <td>127.919998</td>\n",
              "      <td>128.070007</td>\n",
              "      <td>122.139816</td>\n",
              "      <td>25770500</td>\n",
              "      <td>128.500000</td>\n",
              "      <td>128.500000</td>\n",
              "      <td>0</td>\n",
              "    </tr>\n",
              "    <tr>\n",
              "      <th>2</th>\n",
              "      <td>2019-05-20</td>\n",
              "      <td>126.519997</td>\n",
              "      <td>127.589996</td>\n",
              "      <td>125.760002</td>\n",
              "      <td>126.220001</td>\n",
              "      <td>120.375465</td>\n",
              "      <td>23706900</td>\n",
              "      <td>127.740000</td>\n",
              "      <td>127.740000</td>\n",
              "      <td>0</td>\n",
              "    </tr>\n",
              "    <tr>\n",
              "      <th>3</th>\n",
              "      <td>2019-05-21</td>\n",
              "      <td>127.430000</td>\n",
              "      <td>127.529999</td>\n",
              "      <td>126.580002</td>\n",
              "      <td>126.900002</td>\n",
              "      <td>121.023979</td>\n",
              "      <td>15293300</td>\n",
              "      <td>127.530001</td>\n",
              "      <td>127.530001</td>\n",
              "      <td>0</td>\n",
              "    </tr>\n",
              "    <tr>\n",
              "      <th>4</th>\n",
              "      <td>2019-05-22</td>\n",
              "      <td>126.620003</td>\n",
              "      <td>128.240005</td>\n",
              "      <td>126.519997</td>\n",
              "      <td>127.669998</td>\n",
              "      <td>121.758331</td>\n",
              "      <td>15396500</td>\n",
              "      <td>127.558000</td>\n",
              "      <td>127.558000</td>\n",
              "      <td>0</td>\n",
              "    </tr>\n",
              "    <tr>\n",
              "      <th>...</th>\n",
              "      <td>...</td>\n",
              "      <td>...</td>\n",
              "      <td>...</td>\n",
              "      <td>...</td>\n",
              "      <td>...</td>\n",
              "      <td>...</td>\n",
              "      <td>...</td>\n",
              "      <td>...</td>\n",
              "      <td>...</td>\n",
              "      <td>...</td>\n",
              "    </tr>\n",
              "    <tr>\n",
              "      <th>1254</th>\n",
              "      <td>2024-05-09</td>\n",
              "      <td>410.570007</td>\n",
              "      <td>412.720001</td>\n",
              "      <td>409.100006</td>\n",
              "      <td>412.320007</td>\n",
              "      <td>411.577637</td>\n",
              "      <td>14689700</td>\n",
              "      <td>406.253000</td>\n",
              "      <td>413.728201</td>\n",
              "      <td>0</td>\n",
              "    </tr>\n",
              "    <tr>\n",
              "      <th>1255</th>\n",
              "      <td>2024-05-10</td>\n",
              "      <td>412.940002</td>\n",
              "      <td>415.380005</td>\n",
              "      <td>411.799988</td>\n",
              "      <td>414.739990</td>\n",
              "      <td>413.993256</td>\n",
              "      <td>13402300</td>\n",
              "      <td>405.895000</td>\n",
              "      <td>413.750200</td>\n",
              "      <td>0</td>\n",
              "    </tr>\n",
              "    <tr>\n",
              "      <th>1256</th>\n",
              "      <td>2024-05-13</td>\n",
              "      <td>418.010010</td>\n",
              "      <td>418.350006</td>\n",
              "      <td>410.820007</td>\n",
              "      <td>413.720001</td>\n",
              "      <td>412.975098</td>\n",
              "      <td>15440200</td>\n",
              "      <td>405.898999</td>\n",
              "      <td>413.714600</td>\n",
              "      <td>0</td>\n",
              "    </tr>\n",
              "    <tr>\n",
              "      <th>1257</th>\n",
              "      <td>2024-05-14</td>\n",
              "      <td>412.019989</td>\n",
              "      <td>417.489990</td>\n",
              "      <td>411.549988</td>\n",
              "      <td>416.559998</td>\n",
              "      <td>415.809998</td>\n",
              "      <td>15109300</td>\n",
              "      <td>405.998000</td>\n",
              "      <td>413.747400</td>\n",
              "      <td>0</td>\n",
              "    </tr>\n",
              "    <tr>\n",
              "      <th>1258</th>\n",
              "      <td>2024-05-15</td>\n",
              "      <td>417.899994</td>\n",
              "      <td>423.809998</td>\n",
              "      <td>417.269989</td>\n",
              "      <td>423.079987</td>\n",
              "      <td>423.079987</td>\n",
              "      <td>22217500</td>\n",
              "      <td>406.559999</td>\n",
              "      <td>414.156000</td>\n",
              "      <td>0</td>\n",
              "    </tr>\n",
              "  </tbody>\n",
              "</table>\n",
              "<p>1259 rows × 10 columns</p>\n",
              "</div>"
            ],
            "text/plain": [
              "            Date        Open        High         Low       Close   Adj Close  \\\n",
              "0     2019-05-16  126.750000  129.380005  126.459999  128.929993  122.959991   \n",
              "1     2019-05-17  128.309998  130.460007  127.919998  128.070007  122.139816   \n",
              "2     2019-05-20  126.519997  127.589996  125.760002  126.220001  120.375465   \n",
              "3     2019-05-21  127.430000  127.529999  126.580002  126.900002  121.023979   \n",
              "4     2019-05-22  126.620003  128.240005  126.519997  127.669998  121.758331   \n",
              "...          ...         ...         ...         ...         ...         ...   \n",
              "1254  2024-05-09  410.570007  412.720001  409.100006  412.320007  411.577637   \n",
              "1255  2024-05-10  412.940002  415.380005  411.799988  414.739990  413.993256   \n",
              "1256  2024-05-13  418.010010  418.350006  410.820007  413.720001  412.975098   \n",
              "1257  2024-05-14  412.019989  417.489990  411.549988  416.559998  415.809998   \n",
              "1258  2024-05-15  417.899994  423.809998  417.269989  423.079987  423.079987   \n",
              "\n",
              "        Volume    Short_MA     Long_MA  Signal  \n",
              "0     30112200  128.929993  128.929993       0  \n",
              "1     25770500  128.500000  128.500000       0  \n",
              "2     23706900  127.740000  127.740000       0  \n",
              "3     15293300  127.530001  127.530001       0  \n",
              "4     15396500  127.558000  127.558000       0  \n",
              "...        ...         ...         ...     ...  \n",
              "1254  14689700  406.253000  413.728201       0  \n",
              "1255  13402300  405.895000  413.750200       0  \n",
              "1256  15440200  405.898999  413.714600       0  \n",
              "1257  15109300  405.998000  413.747400       0  \n",
              "1258  22217500  406.559999  414.156000       0  \n",
              "\n",
              "[1259 rows x 10 columns]"
            ]
          },
          "execution_count": 4,
          "metadata": {},
          "output_type": "execute_result"
        }
      ],
      "source": [
        "#generating a solumn with zeros \n",
        "df['Signal'] = 0\n",
        "\n",
        "#golden cross \n",
        "df.loc[(df['Short_MA'] > df['Long_MA']) & (df['Short_MA'].shift(1) <= df['Long_MA'].shift(1)), 'Signal'] = 1\n",
        "\n",
        "#death cross \n",
        "df.loc[(df['Short_MA'] < df['Long_MA']) & (df['Short_MA'].shift(1) >= df['Long_MA'].shift(1)), 'Signal'] = -1\n",
        "df"
      ]
    },
    {
      "cell_type": "code",
      "execution_count": 5,
      "metadata": {
        "trusted": true
      },
      "outputs": [],
      "source": [
        "import matplotlib.pyplot as plt"
      ]
    },
    {
      "cell_type": "code",
      "execution_count": 6,
      "metadata": {
        "trusted": true
      },
      "outputs": [
        {
          "data": {
            "image/png": "[encoded data removed]",
            "text/plain": [
              "<Figure size 1200x600 with 1 Axes>"
            ]
          },
          "metadata": {},
          "output_type": "display_data"
        }
      ],
      "source": [
        "plt.figure(figsize=(12, 6))\n",
        "plt.plot(df['Date'], df['Close'], label='Close Price', color='blue')\n",
        "\n",
        "# Plotting short-term moving average\n",
        "plt.plot(df['Date'], df['Short_MA'], label='Short-term MA', color='orange')\n",
        "\n",
        "# Plotting long-term moving average\n",
        "plt.plot(df['Date'], df['Long_MA'], label='Long-term MA', color='green')\n",
        "\n",
        "# Adding labels and title\n",
        "plt.xlabel('Date')\n",
        "plt.ylabel('Price')\n",
        "plt.title('Closing Prices with Moving Averages')\n",
        "plt.legend()\n",
        "plt.grid(True)\n",
        "plt.show()"
      ]
    },
    {
      "cell_type": "markdown",
      "metadata": {},
      "source": [
        "We will now backtest and stimulate the strategy."
      ]
    },
    {
      "cell_type": "code",
      "execution_count": 7,
      "metadata": {
        "trusted": true
      },
      "outputs": [
        {
          "name": "stdout",
          "output_type": "stream",
          "text": [
            " buy at 2019-06-18 for $135.160004\n",
            " sell at 2019-08-23 for $133.389999. Profit $-1.7700049999999976\n",
            " buy at 2019-09-23 for $139.139999\n",
            " sell at 2020-03-13 for $158.830002. Profit $19.69000300000002\n",
            " buy at 2020-04-22 for $173.520004\n",
            " sell at 2020-09-28 for $209.440002. Profit $35.91999799999999\n",
            " buy at 2020-10-21 for $214.800003\n",
            " sell at 2020-12-14 for $214.199997. Profit $-0.6000060000000076\n",
            " buy at 2020-12-18 for $218.589996\n",
            " sell at 2021-03-23 for $237.580002. Profit $18.990005999999994\n",
            " buy at 2021-04-07 for $249.899994\n",
            " sell at 2021-05-26 for $251.490005. Profit $1.590011000000004\n",
            " buy at 2021-06-18 for $259.429993\n",
            " sell at 2021-10-06 for $293.109985. Profit $33.67999199999997\n",
            " buy at 2021-10-27 for $323.170013\n",
            " sell at 2022-01-06 for $313.880005. Profit $-9.290008\n",
            " buy at 2022-04-04 for $314.970001\n",
            " sell at 2022-04-26 for $270.220001. Profit $-44.75\n",
            " buy at 2022-07-21 for $264.839996\n",
            " sell at 2022-07-25 for $258.829987. Profit $-6.010008999999968\n",
            " buy at 2022-07-28 for $276.410004\n",
            " sell at 2022-09-13 for $251.990005. Profit $-24.41999900000002\n",
            " buy at 2022-11-30 for $255.139999\n",
            " sell at 2023-01-10 for $228.850006. Profit $-26.28999299999998\n",
            " buy at 2023-02-07 for $267.559998\n",
            " sell at 2023-08-14 for $324.040009. Profit $56.48001099999999\n",
            " buy at 2023-10-25 for $340.670013\n",
            " sell at 2024-04-29 for $402.25. Profit $61.57998700000002\n",
            " Final Portfolio Value: $10114.799987999997\n"
          ]
        }
      ],
      "source": [
        "#intializing trading variables \n",
        "portfolio_value = 10000 \n",
        "position = 0 # 0 = no position , 1 = long, -1 = short\n",
        "entry_price = 0 #storing entry price for the current positon \n",
        "trade_log = []\n",
        "for index, row in df.iterrows(): \n",
        "    #cross signal \n",
        "    if row['Signal'] == 1 and position == 0: \n",
        "        position = 1 #enter long posiition\n",
        "        entry_price = row['Close']\n",
        "        print(f\" buy at {row['Date']} for ${entry_price}\") \n",
        "    #death signal \n",
        "    elif row['Signal']== -1 and position == 1: \n",
        "        position = 0 #exit long position \n",
        "        exit_price = row['Close']\n",
        "        trade_profit = (exit_price - entry_price)  #calculating trade profit/loss\n",
        "        portfolio_value += trade_profit \n",
        "        trade_log.append({'entry_date': row['Date'], 'entry_price': entry_price, \n",
        "                          'exit_date': row['Date'], 'exit_price': exit_price, \n",
        "                          'position': 1})\n",
        "        print(f\" sell at {row['Date']} for ${exit_price}. Profit ${trade_profit}\")\n",
        "   \n",
        "final_portfolio_val = portfolio_value \n",
        "print(f\" Final Portfolio Value: ${final_portfolio_val}\")\n",
        "    "
      ]
    },
    {
      "cell_type": "markdown",
      "metadata": {},
      "source": [
        "We will now evaluate performance using metrics such as total return and average return per trade."
      ]
    },
    {
      "cell_type": "code",
      "execution_count": 8,
      "metadata": {
        "trusted": true
      },
      "outputs": [
        {
          "data": {
            "text/plain": [
              "1.1479998799999704"
            ]
          },
          "execution_count": 8,
          "metadata": {},
          "output_type": "execute_result"
        }
      ],
      "source": [
        "#total return \n",
        "total_return = ((final_portfolio_val- 10000)/10000)* 100\n",
        "total_return "
      ]
    },
    {
      "cell_type": "code",
      "execution_count": 9,
      "metadata": {
        "trusted": true
      },
      "outputs": [
        {
          "data": {
            "text/plain": [
              "8.199999142856932"
            ]
          },
          "execution_count": 9,
          "metadata": {},
          "output_type": "execute_result"
        }
      ],
      "source": [
        "#average return per trade\n",
        "num_trade = len(trade_log)\n",
        "avg_return_per_trade = (total_return /num_trade)*100\n",
        "avg_return_per_trade "
      ]
    },
    {
      "cell_type": "markdown",
      "metadata": {},
      "source": [
        "Overall, both metrics indicate that the trading strategy produced positive results during the backtest period. However, it's essential to consider other performance metrics and conduct further analysis to assess the strategy's robustness, risk-adjusted return, and potential for future performance."
      ]
    }
  ],
  "metadata": {
    "kernelspec": {
      "display_name": "Python (myenv)",
      "language": "python",
      "name": "myenv"
    },
    "language_info": {
      "codemirror_mode": {
        "name": "ipython",
        "version": 3
      },
      "file_extension": ".py",
      "mimetype": "text/x-python",
      "name": "python",
      "nbconvert_exporter": "python",
      "pygments_lexer": "ipython3",
      "version": "3.9.13"
    }
  },
  "nbformat": 4,
  "nbformat_minor": 4
}
